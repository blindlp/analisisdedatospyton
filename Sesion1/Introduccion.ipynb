{
 "cells": [
  {
   "cell_type": "code",
   "execution_count": 2,
   "metadata": {},
   "outputs": [
    {
     "name": "stdout",
     "output_type": "stream",
     "text": [
      "hola mundo\n"
     ]
    }
   ],
   "source": [
    "print (\"hola mundo\")"
   ]
  },
  {
   "cell_type": "markdown",
   "metadata": {},
   "source": [
    "# Ciclo IF"
   ]
  },
  {
   "cell_type": "code",
   "execution_count": 11,
   "metadata": {},
   "outputs": [
    {
     "name": "stdout",
     "output_type": "stream",
     "text": [
      "es falso\n"
     ]
    }
   ],
   "source": [
    "\n",
    "variable = 1\n",
    "\n",
    "# se va a comparar la variable 'variable' con el valor = 5 y tendra como respuesta \n",
    "\"\"\"\n",
    "se va a comparar la variable 'variable' con el valor = 5 y tendra como respuesta \n",
    "\"\"\"\n",
    "if variable == 5:\n",
    "    print (\"es verdadero\")\n",
    "else:\n",
    "    print (\"es falso\")\n"
   ]
  },
  {
   "cell_type": "markdown",
   "metadata": {},
   "source": [
    "# Variables y Tipos de datos"
   ]
  },
  {
   "cell_type": "markdown",
   "metadata": {},
   "source": []
  },
  {
   "cell_type": "code",
   "execution_count": 13,
   "metadata": {},
   "outputs": [
    {
     "name": "stdout",
     "output_type": "stream",
     "text": [
      "Juan\n",
      "30\n",
      "1.7\n",
      "True\n"
     ]
    }
   ],
   "source": [
    "nombre = 'Juan' # variable de tipo string\n",
    "edad = 30 # variable de tipo inst\n",
    "altura = 1.70 # variable de tipo float\n",
    "es_estudiante = True # variable de tipo boolenana\n",
    "\n",
    "print(nombre)\n",
    "print(edad)\n",
    "print(altura)\n",
    "print(es_estudiante)"
   ]
  },
  {
   "cell_type": "markdown",
   "metadata": {},
   "source": [
    "# saber el tipo de dato"
   ]
  },
  {
   "cell_type": "code",
   "execution_count": 15,
   "metadata": {},
   "outputs": [
    {
     "name": "stdout",
     "output_type": "stream",
     "text": [
      "<class 'str'>\n",
      "<class 'int'>\n",
      "<class 'float'>\n",
      "<class 'bool'>\n"
     ]
    }
   ],
   "source": [
    "# lograr identificar el tipo de variable que es \n",
    "print(type(nombre))\n",
    "print(type(edad))\n",
    "print(type(altura))\n",
    "print(type(es_estudiante))"
   ]
  },
  {
   "cell_type": "markdown",
   "metadata": {},
   "source": [
    "# Tipos de datos - Listas\n"
   ]
  },
  {
   "cell_type": "code",
   "execution_count": 17,
   "metadata": {},
   "outputs": [
    {
     "name": "stdout",
     "output_type": "stream",
     "text": [
      "[1, 2, ['hello', 44.4], ['x']]\n"
     ]
    }
   ],
   "source": [
    "# lista vacia\n",
    "lista_1 = []\n",
    "\n",
    "# lista enteros\n",
    "lista_2 = [1,2,3,4,5]\n",
    "\n",
    "# lista strings\n",
    "lista_3 = [\"apple\",\"Hello\",\"xyz\"]\n",
    "\n",
    "# lista mixa\n",
    "lista_4 = [2,3,\"hell\",44.1]\n",
    "\n",
    "# lista anidad\n",
    "\n",
    "lista_5 = [1,2,[\"hello\",44.4],[\"x\"]]\n",
    "\n",
    "print(lista_5)"
   ]
  },
  {
   "cell_type": "code",
   "execution_count": 18,
   "metadata": {},
   "outputs": [],
   "source": [
    "# accediento elementos en una lista\n",
    "\"\"\"\n",
    "Referencia de posiciones:\n",
    "a -> 0\n",
    "b -> 1\n",
    "c -> 2\n",
    "d -> 3\n",
    "e -> 4\n",
    "f -> 5\n",
    "\"\"\"\n",
    "lista = [\"a\",\"b\",\"c\",\"d\",\"e\",\"f\"]\n",
    "\n"
   ]
  },
  {
   "cell_type": "code",
   "execution_count": 19,
   "metadata": {},
   "outputs": [
    {
     "name": "stdout",
     "output_type": "stream",
     "text": [
      "d\n"
     ]
    }
   ],
   "source": [
    "print(lista[3]) # imprimir elementos de una lista en una posicion especifica"
   ]
  },
  {
   "cell_type": "code",
   "execution_count": 21,
   "metadata": {},
   "outputs": [
    {
     "name": "stdout",
     "output_type": "stream",
     "text": [
      "hello\n"
     ]
    }
   ],
   "source": [
    "print(lista_5[2][0]) # imprimer elementos de una lista dentro deotra lista"
   ]
  },
  {
   "cell_type": "code",
   "execution_count": 24,
   "metadata": {},
   "outputs": [
    {
     "name": "stdout",
     "output_type": "stream",
     "text": [
      "['c', 'e', 'f']\n"
     ]
    }
   ],
   "source": [
    "lista = [\"a\",\"b\",\"c\",\"e\",\"f\"]\n",
    "# lista [2:4] -> posicion 2 hasta la posicion 3\n",
    "# lista [2:5] -> posicion 2 hasta la posicion 4\n",
    "print(lista[2:5])"
   ]
  },
  {
   "cell_type": "markdown",
   "metadata": {},
   "source": [
    "# Tipos de datos - Tuplas\n"
   ]
  },
  {
   "cell_type": "code",
   "execution_count": 27,
   "metadata": {},
   "outputs": [
    {
     "name": "stdout",
     "output_type": "stream",
     "text": [
      "()\n",
      "(1, 2, 3)\n",
      "(1, 'Hello', 4, 4)\n",
      "('apple', 1, [1, 2, 3], (4, 9, 6))\n"
     ]
    }
   ],
   "source": [
    "# tupla vacion\n",
    "tupla_1 = ()\n",
    "print(tupla_1)\n",
    "\n",
    "# tupla de entero\n",
    "tupla_2 = (1,2,3)\n",
    "print(tupla_2)\n",
    "\n",
    "#tupla mista\n",
    "tupla_3 = (1,\"Hello\",4,4)\n",
    "print(tupla_3)\n",
    "\n",
    "# tuplas anidadas\n",
    "tupla_4 = (\"apple\",1,[1,2,3],(4,9,6))\n",
    "print(tupla_4)\n"
   ]
  },
  {
   "cell_type": "code",
   "execution_count": 28,
   "metadata": {},
   "outputs": [
    {
     "name": "stdout",
     "output_type": "stream",
     "text": [
      "<class 'tuple'>\n"
     ]
    }
   ],
   "source": [
    "# tupla con un elemento\n",
    "tupla = (\"Hello\",)\n",
    "print(type(tupla))"
   ]
  },
  {
   "cell_type": "code",
   "execution_count": 29,
   "metadata": {},
   "outputs": [
    {
     "name": "stdout",
     "output_type": "stream",
     "text": [
      "<class 'tuple'>\n",
      "a\n"
     ]
    }
   ],
   "source": [
    "tupla = \"a\",\"b\",\"c\",\"e\",\"f\"\n",
    "print(type(tupla))\n",
    "print(tupla[0])\n"
   ]
  },
  {
   "cell_type": "code",
   "execution_count": 31,
   "metadata": {},
   "outputs": [
    {
     "name": "stdout",
     "output_type": "stream",
     "text": [
      "a\n",
      "c\n",
      "9\n",
      "('b', 'c', 'e')\n"
     ]
    }
   ],
   "source": [
    "# imprimiendo tipo de tuplas\n",
    "print(tupla[0])\n",
    "print(tupla[2])\n",
    "print(tupla_4[3][1])\n",
    "print(tupla[1:4])"
   ]
  },
  {
   "cell_type": "markdown",
   "metadata": {},
   "source": [
    "# Tipo de datos - Diccionario"
   ]
  },
  {
   "cell_type": "code",
   "execution_count": 32,
   "metadata": {},
   "outputs": [
    {
     "name": "stdout",
     "output_type": "stream",
     "text": [
      "{'nombre': 'Jhon', 1: [1, 2, 3, 4]}\n"
     ]
    }
   ],
   "source": [
    "# diccionario vacio\n",
    "diccionario_1 = {}\n",
    "\n",
    "# diccionario con claves enteras\n",
    "diccionario_2 = {1:\"Juan\", 2:\"Perez\"}\n",
    "\n",
    "# diccionario con claves mixtas\n",
    "diccionario_3 = {\"nombre\":\"Jhon\", 1:[1,2,3,4]}\n",
    "\n",
    "print(diccionario_3)"
   ]
  },
  {
   "cell_type": "code",
   "execution_count": 33,
   "metadata": {},
   "outputs": [
    {
     "name": "stdout",
     "output_type": "stream",
     "text": [
      "Jack\n"
     ]
    }
   ],
   "source": [
    "# accedemos elementos de un diccionario\n",
    "\n",
    "diccionario = {\"nombre\":\"Jack\", \"edad\": 24, \"pais\": \"Peru\"}\n",
    "\n",
    "print(diccionario[\"nombre\"])\n"
   ]
  },
  {
   "cell_type": "code",
   "execution_count": 35,
   "metadata": {},
   "outputs": [
    {
     "name": "stdout",
     "output_type": "stream",
     "text": [
      "None\n"
     ]
    }
   ],
   "source": [
    "# forma de obtener datos de elementos que no sabes si existen\n",
    "print(diccionario.get(\"direccion\"))"
   ]
  },
  {
   "cell_type": "code",
   "execution_count": 36,
   "metadata": {},
   "outputs": [
    {
     "name": "stdout",
     "output_type": "stream",
     "text": [
      "Calle A\n"
     ]
    }
   ],
   "source": [
    "# agregar un elemento a un diccionario\n",
    "diccionario['direccion'] = \"Calle A\"\n",
    "print(diccionario.get('direccion'))"
   ]
  },
  {
   "cell_type": "code",
   "execution_count": 37,
   "metadata": {},
   "outputs": [
    {
     "name": "stdout",
     "output_type": "stream",
     "text": [
      "Calle B\n"
     ]
    }
   ],
   "source": [
    "# modificar un dato de un diccionario\n",
    "diccionario['diccionario'] = 'Calle B'\n",
    "print(diccionario.get('diccionario'))"
   ]
  },
  {
   "cell_type": "markdown",
   "metadata": {},
   "source": [
    "# Itecciones con tipos de datos\n"
   ]
  },
  {
   "cell_type": "code",
   "execution_count": 39,
   "metadata": {},
   "outputs": [
    {
     "name": "stdout",
     "output_type": "stream",
     "text": [
      "a\n",
      "b\n",
      "c\n",
      "e\n",
      "f\n"
     ]
    }
   ],
   "source": [
    "# iteracion de una lista\n",
    "for item in lista:\n",
    "    print(item)"
   ]
  },
  {
   "cell_type": "code",
   "execution_count": 40,
   "metadata": {},
   "outputs": [
    {
     "name": "stdout",
     "output_type": "stream",
     "text": [
      "a\n",
      "b\n",
      "c\n",
      "e\n",
      "f\n"
     ]
    }
   ],
   "source": [
    "# iteracion de una tupla\n",
    "for item in tupla:\n",
    "    print(item)"
   ]
  },
  {
   "cell_type": "code",
   "execution_count": 41,
   "metadata": {},
   "outputs": [
    {
     "name": "stdout",
     "output_type": "stream",
     "text": [
      "nombre Jack\n",
      "edad 24\n",
      "pais Peru\n",
      "direccion Calle A\n",
      "diccionario Calle B\n"
     ]
    }
   ],
   "source": [
    "# iteracion de un direccionario\n",
    "\n",
    "for clave, valor in diccionario.items():\n",
    "    print(clave, valor)"
   ]
  },
  {
   "cell_type": "code",
   "execution_count": 42,
   "metadata": {},
   "outputs": [
    {
     "name": "stdout",
     "output_type": "stream",
     "text": [
      "Jack\n",
      "24\n",
      "Peru\n",
      "Calle A\n",
      "Calle B\n"
     ]
    }
   ],
   "source": [
    "# iteracion para obtener claves de un diccionario.\n",
    "for clave in diccionario.keys():\n",
    "    print(diccionario[clave])"
   ]
  },
  {
   "cell_type": "markdown",
   "metadata": {},
   "source": [
    "# Control de flujo"
   ]
  },
  {
   "cell_type": "code",
   "execution_count": null,
   "metadata": {},
   "outputs": [],
   "source": []
  }
 ],
 "metadata": {
  "kernelspec": {
   "display_name": "Python 3",
   "language": "python",
   "name": "python3"
  },
  "language_info": {
   "codemirror_mode": {
    "name": "ipython",
    "version": 3
   },
   "file_extension": ".py",
   "mimetype": "text/x-python",
   "name": "python",
   "nbconvert_exporter": "python",
   "pygments_lexer": "ipython3",
   "version": "3.10.13"
  }
 },
 "nbformat": 4,
 "nbformat_minor": 2
}
